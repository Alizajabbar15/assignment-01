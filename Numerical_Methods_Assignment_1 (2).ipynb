{
 "cells": [
  {
   "cell_type": "markdown",
   "id": "5417346c",
   "metadata": {},
   "source": [
    "# Assignment#1\n",
    "\n",
    "**TASK#1 :** Explain each code in detail by adding comments in each line.\n",
    "\n",
    "**TASK#2 :** Compare the results of following questions with all methods and also plot the graphs of all functions.\n",
    "\n",
    "# Note :\n",
    "\n",
    "All codes are solved for your better understanding and as reference. You need to find the soltution of all\n",
    "\n",
    "problems and then compare the results by making a table. For example you can make a table in Excel sheet.  \n",
    "\n",
    "\n",
    "**Questions#1**\n",
    "\n",
    "Find the roots of the following cubic equation:<br>\n",
    "    $x^3-5x-9=0$\n",
    "\n",
    "Take Guess1 = 2 and Guess2 = 3"
   ]
  },
  {
   "cell_type": "markdown",
   "id": "4e84277c",
   "metadata": {},
   "source": [
    "\n",
    "# 1- Bisection Method"
   ]
  },
  {
   "cell_type": "code",
   "execution_count": 4,
   "id": "fc5c0e8d",
   "metadata": {},
   "outputs": [
    {
     "name": "stdout",
     "output_type": "stream",
     "text": [
      "first guess: 2\n",
      "second guess: 3\n",
      "tolerance: 0.00001\n",
      "iteration 1, x2 = 2.500000 and f(x2)= -5.875000\n",
      "iteration 2, x2 = 2.750000 and f(x2)= -1.953125\n",
      "iteration 3, x2 = 2.875000 and f(x2)= 0.388672\n",
      "iteration 4, x2 = 2.812500 and f(x2)= -0.815186\n",
      "iteration 5, x2 = 2.843750 and f(x2)= -0.221588\n",
      "iteration 6, x2 = 2.859375 and f(x2)= 0.081448\n",
      "iteration 7, x2 = 2.851562 and f(x2)= -0.070592\n",
      "iteration 8, x2 = 2.855469 and f(x2)= 0.005297\n",
      "iteration 9, x2 = 2.853516 and f(x2)= -0.032680\n",
      "iteration 10, x2 = 2.854492 and f(x2)= -0.013700\n",
      "iteration 11, x2 = 2.854980 and f(x2)= -0.004204\n",
      "iteration 12, x2 = 2.855225 and f(x2)= 0.000546\n",
      "iteration 13, x2 = 2.855103 and f(x2)= -0.001829\n",
      "iteration 14, x2 = 2.855164 and f(x2)= -0.000641\n",
      "iteration 15, x2 = 2.855194 and f(x2)= -0.000048\n",
      "iteration 16, x2 = 2.855209 and f(x2)= 0.000249\n",
      "iteration 17, x2 = 2.855202 and f(x2)= 0.000101\n",
      "iteration 18, x2 = 2.855198 and f(x2)= 0.000027\n",
      "iteration 19, x2 = 2.855196 and f(x2)= -0.000011\n",
      "iteration 20, x2 = 2.855197 and f(x2)= 0.000008\n",
      "root is :2.85519695 \n"
     ]
    }
   ],
   "source": [
    "# guess1 = 2, guess2 = 3   #taking initial guesses between which the root exists.\n",
    "from math import sin      # defining library\n",
    "def bisection(x0,x1,e):  #defining a function named as bisection. \n",
    "    step = 1             # starting the itteration to find root\n",
    "    condition = True  # using condition statement by taking it true as default.\n",
    "    while condition:  #taking while condition as true and it will be executed. \n",
    "        x2 = (x0+x1)/2   # using formula of bisection method then we get first root of first itteration.\n",
    "        print('iteration %d, x2 = %0.6f and f(x2)= %0.6f' %(step,x2,f(x2)))   #print no. of itteration, x2 and f(x2)\n",
    "        \n",
    "        if f(x0) * f(x2) < 0:  #criteria for applying bisection method\n",
    "            x1 = x2     #if satisfied then x2 will be replaced by x1.\n",
    "        else:\n",
    "            x0 = x2     #if not satisfied then x0 will be replaced by x2.\n",
    "        step = step +1   # increasing no. of itterations\n",
    "        condition = abs(f(x2)) > e  # defining condition whether the absolute error is greater than  the defined tolerance.\n",
    "    print('root is :%0.8f '%x2)  #printing the value of root.\n",
    "#    return x2     #if the above condition is true then return to x2.\n",
    "\n",
    "def f(x):                 # defining a funtion\n",
    "    return x**3-5*x-9   #given function\n",
    "\n",
    "x0 = float(input('first guess: '))  #getting first value from the user\n",
    "x1 = float(input('second guess: ')) #getting second value from the user\n",
    "e  = float(input('tolerance: '))  # defining a acceptable tolerance by the user\n",
    "\n",
    "if f(x0) * f(x1) > 0.0:     #applying if condition and check for this\n",
    "    print('given guess values do not bracket the root') #if above statement is true then print the statement given in brackets.\n",
    "else:       # using else condition if above condition is false\n",
    "    root = bisection(x0,x1,e)  # using bisection method if the criteria for having root is satisfied."
   ]
  },
  {
   "cell_type": "code",
   "execution_count": 8,
   "id": "c6545d8e",
   "metadata": {},
   "outputs": [
    {
     "ename": "AttributeError",
     "evalue": "module 'matplotlib.pyplot' has no attribute 'xlable'",
     "output_type": "error",
     "traceback": [
      "\u001b[1;31m---------------------------------------------------------------------------\u001b[0m",
      "\u001b[1;31mAttributeError\u001b[0m                            Traceback (most recent call last)",
      "\u001b[1;32mC:\\Users\\TRADEZ~1\\AppData\\Local\\Temp/ipykernel_11176/249389064.py\u001b[0m in \u001b[0;36m<module>\u001b[1;34m\u001b[0m\n\u001b[0;32m      3\u001b[0m \u001b[0mplt\u001b[0m\u001b[1;33m.\u001b[0m\u001b[0mplot\u001b[0m\u001b[1;33m(\u001b[0m\u001b[0mx\u001b[0m\u001b[1;33m,\u001b[0m\u001b[0my\u001b[0m\u001b[1;33m)\u001b[0m\u001b[1;33m\u001b[0m\u001b[1;33m\u001b[0m\u001b[0m\n\u001b[0;32m      4\u001b[0m \u001b[0mplt\u001b[0m\u001b[1;33m.\u001b[0m\u001b[0mgrid\u001b[0m\u001b[1;33m(\u001b[0m\u001b[1;33m)\u001b[0m\u001b[1;33m\u001b[0m\u001b[1;33m\u001b[0m\u001b[0m\n\u001b[1;32m----> 5\u001b[1;33m \u001b[0mplt\u001b[0m\u001b[1;33m.\u001b[0m\u001b[0mxlable\u001b[0m\u001b[1;33m(\u001b[0m\u001b[1;34m'x-axis'\u001b[0m\u001b[1;33m,\u001b[0m\u001b[0mfontsize\u001b[0m\u001b[1;33m=\u001b[0m\u001b[1;36m15\u001b[0m\u001b[1;33m)\u001b[0m\u001b[1;33m\u001b[0m\u001b[1;33m\u001b[0m\u001b[0m\n\u001b[0m\u001b[0;32m      6\u001b[0m \u001b[0mplt\u001b[0m\u001b[1;33m.\u001b[0m\u001b[0mylabel\u001b[0m\u001b[1;33m(\u001b[0m\u001b[1;34m'y-axis'\u001b[0m\u001b[1;33m,\u001b[0m\u001b[0mfontsize\u001b[0m\u001b[1;33m=\u001b[0m\u001b[1;36m15\u001b[0m\u001b[1;33m)\u001b[0m\u001b[1;33m\u001b[0m\u001b[1;33m\u001b[0m\u001b[0m\n",
      "\u001b[1;31mAttributeError\u001b[0m: module 'matplotlib.pyplot' has no attribute 'xlable'"
     ]
    },
    {
     "data": {
      "image/png": "[encoded data removed]",
      "text/plain": [
       "<Figure size 432x288 with 1 Axes>"
      ]
     },
     "metadata": {
      "needs_background": "light"
     },
     "output_type": "display_data"
    }
   ],
   "source": [
    "x = np.linspace(2,3,100)\n",
    "y = x**3-5*x-9 \n",
    "plt.plot(x,y)\n",
    "plt.grid()\n",
    "plt.xlable('x-axis',fontsize=15)\n",
    "plt.ylabel('y-axis',fontsize=15)"
   ]
  },
  {
   "cell_type": "code",
   "execution_count": null,
   "id": "ebb5cc85",
   "metadata": {},
   "outputs": [],
   "source": [
    "# 2- Newton's Raphson Method"
   ]
  },
  {
   "cell_type": "code",
   "execution_count": 13,
   "id": "022b139d",
   "metadata": {},
   "outputs": [
    {
     "name": "stdout",
     "output_type": "stream",
     "text": [
      "the root is 2.855 at 5 iterations.\n"
     ]
    }
   ],
   "source": [
    "from math import sin      #defining a library\n",
    "def newton(fn,dfn,x,tol,maxiter):   #defining the function named as newton.\n",
    "    for i in range(maxiter):    #introducing loop for no. of itterations\n",
    "        xnew = x - fn(x)/dfn(x)  #formula of newton raphson method for finding new root.\n",
    "        if abs(xnew-x)<tol:   #defining condition whether the absolute error is less than the defined tolerance                      \n",
    "            break   # if yes then no more itterations would be permormed and process should be stopped.\n",
    "        x = xnew   #if no, then x will be replaced with xnew.\n",
    "    return xnew, i   \n",
    "\n",
    "y = lambda x: x**3-5*x-9      #converting the given function into python function  \n",
    "dy = lambda x : 3*x**2-5   #converting the derivative of the given function into python.\n",
    "\n",
    "x, n = newton(y, dy, 5, 0.0001, 100)   # calling to the main function\n",
    "print('the root is %.3f at %d iterations.'%(x,n))   #print the value of required root and no. of itterations"
   ]
  },
  {
   "cell_type": "code",
   "execution_count": 16,
   "id": "b8831348",
   "metadata": {},
   "outputs": [],
   "source": [
    "#3- Regula Falsi Method"
   ]
  },
  {
   "cell_type": "code",
   "execution_count": 15,
   "id": "ddbaf5e3",
   "metadata": {},
   "outputs": [
    {
     "name": "stdout",
     "output_type": "stream",
     "text": [
      "enter x1: 2\n",
      "enter x2: 3\n",
      "The root = 2.855197 at 7 false position\n"
     ]
    }
   ],
   "source": [
    "from math import sin     #defining a library\n",
    "def reg_falsi(f,x1,x2,tol=1.0e-6,maxfpos=100):   #definig a function named as regula falsi \n",
    "    \n",
    "    if f(x1) * f(x2)<0:    # criteria for having a root between two values and then applying regula falsi method.\n",
    "        for fpos in range(1,maxfpos+1):  #introducing loop for no. of itterations\n",
    "            xh = x2 - (x2-x1)/(f(x2)-f(x1)) * f(x2)  #formula for regula falsi method for finding new root.\n",
    "            if abs(f(xh)) < tol:   # defining condition whether the absolute error is less than the defined tolerance\n",
    "                break   #if yes then no more itterations would be permormed and process should be stopped.\n",
    "            elif f(x1) * f(xh) < 0:   #criteria for applying false position method and existance of root.\n",
    "                x2 = xh  #if above criteria satisfies then x2 would be repalaced with xh.\n",
    "            else:  #using else statement if above condition is not satisfied\n",
    "                x1 = xh   #then x1 would be replaced with xh.\n",
    "    else:   #using else satement, otherwise\n",
    "        print('No roots exists within the given interval')  #if both conditions are not satisfied then print the statement mentioned in the bracket.\n",
    "        \n",
    "    return xh, fpos   \n",
    "\n",
    "y = lambda x: x**3-5*x-9   #converting the given function into python function  \n",
    "\n",
    "x1 = float(input('enter x1: '))   #taking first input from the user.\n",
    "x2 = float(input('enter x2: '))   #taking second input from the user.\n",
    "\n",
    "r, n = reg_falsi(y,x1,x2)   #calling to the main function\n",
    "print('The root = %f at %d false position'%(r,n))   #print the value of the root and no of itterations."
   ]
  },
  {
   "cell_type": "code",
   "execution_count": 19,
   "id": "28870a51",
   "metadata": {},
   "outputs": [],
   "source": [
    "#4- Secant Method"
   ]
  },
  {
   "cell_type": "code",
   "execution_count": 20,
   "id": "ee2d0bc3",
   "metadata": {},
   "outputs": [
    {
     "name": "stdout",
     "output_type": "stream",
     "text": [
      "enter x1: 2\n",
      "enter x2: 3\n",
      "Root = 2.855197 at 4 iterations\n"
     ]
    }
   ],
   "source": [
    "from math import sin    #defining library\n",
    "def secant(fn,x1,x2,tol,maxiter):   #defining a function named as secant.\n",
    "    for i in range(maxiter):   #introducing loop for no. of itterations\n",
    "        xnew  = x2 - (x2-x1)/(fn(x2)-fn(x1))*fn(x2)   #formula of secant method for finding the new root.\n",
    "        if abs(xnew-x2) < tol:  # defining condition whether the absolute error is less than  the defined tolerance\n",
    "            break  # if yes then no more itterations would be permormed and process should be stopped.\n",
    "        else:     # using else condition, if not satisfied the tolerance.\n",
    "            x1 = x2  # then x1 would be replaced with x2\n",
    "            x2 = xnew   #and x2 would be the new root.\n",
    "    else:      # using else condition, otherwise\n",
    "        print('warning: Maximum number of iterations is reached')   #print the statement mentioned in the brackets.\n",
    "    return xnew, i   \n",
    "\n",
    "f = lambda x: x**3-5*x-9   #converting the given function into python function    \n",
    "\n",
    "x1 = float(input('enter x1: '))   #taking first input from the user.\n",
    "x2 = float(input('enter x2: '))   #taking second input from the user.\n",
    "\n",
    "r, n = secant(f,x1,x2,1.0e-6,100)   #calling to the main function\n",
    "\n",
    "print('Root = %f at %d iterations'%(r,n))   #print the value of the root and no of itterations."
   ]
  },
  {
   "cell_type": "markdown",
   "id": "62b894b3",
   "metadata": {},
   "source": [
    "**Question#2**\n",
    "\n",
    "Find the roots of the following cubic equation:<br>\n",
    "    $2x^3-9.5x+7.5=0$\n",
    "    \n",
    "take initial guess = 5 \n",
    "\n",
    "\n",
    "\n",
    "\n",
    "# 2- Newton's Raphson Method"
   ]
  },
  {
   "cell_type": "code",
   "execution_count": 1,
   "id": "5040dac2",
   "metadata": {},
   "outputs": [
    {
     "name": "stdout",
     "output_type": "stream",
     "text": [
      "the root is 1.500 at 7 iterations.\n"
     ]
    }
   ],
   "source": [
    "from math import sin      #defining a library\n",
    "def newton(fn,dfn,x,tol,maxiter):   #defining the function named as newton.\n",
    "    for i in range(maxiter):    #introducing loop for no. of itterations\n",
    "        xnew = x - fn(x)/dfn(x)  #formula of newton raphson method for finding new root.\n",
    "        if abs(xnew-x)<tol:   #defining condition whether the absolute error is less than the defined tolerance                      \n",
    "            break   # if yes then no more itterations would be permormed and process should be stopped.\n",
    "        x = xnew   #if no, then x will be replaced with xnew.\n",
    "    return xnew, i   \n",
    "\n",
    "y = lambda x: 2*x**3-9.5*x+7.5    #converting the given function into python function  \n",
    "dy = lambda x : 6*x**2-9.5   #converting the derivative of the given function into python.\n",
    "\n",
    "x, n = newton(y, dy, 5, 0.0001, 100)   #calling to the main function \n",
    "print('the root is %.3f at %d iterations.'%(x,n))   #print the value of required root and no. of itterations."
   ]
  },
  {
   "cell_type": "code",
   "execution_count": 9,
   "id": "c31543f9",
   "metadata": {},
   "outputs": [
    {
     "ename": "AttributeError",
     "evalue": "module 'matplotlib.pyplot' has no attribute 'xlable'",
     "output_type": "error",
     "traceback": [
      "\u001b[1;31m---------------------------------------------------------------------------\u001b[0m",
      "\u001b[1;31mAttributeError\u001b[0m                            Traceback (most recent call last)",
      "\u001b[1;32mC:\\Users\\TRADEZ~1\\AppData\\Local\\Temp/ipykernel_11176/2871207208.py\u001b[0m in \u001b[0;36m<module>\u001b[1;34m\u001b[0m\n\u001b[0;32m      3\u001b[0m \u001b[0mplt\u001b[0m\u001b[1;33m.\u001b[0m\u001b[0mplot\u001b[0m\u001b[1;33m(\u001b[0m\u001b[0mx\u001b[0m\u001b[1;33m,\u001b[0m\u001b[0my\u001b[0m\u001b[1;33m)\u001b[0m\u001b[1;33m\u001b[0m\u001b[1;33m\u001b[0m\u001b[0m\n\u001b[0;32m      4\u001b[0m \u001b[0mplt\u001b[0m\u001b[1;33m.\u001b[0m\u001b[0mgrid\u001b[0m\u001b[1;33m(\u001b[0m\u001b[1;33m)\u001b[0m\u001b[1;33m\u001b[0m\u001b[1;33m\u001b[0m\u001b[0m\n\u001b[1;32m----> 5\u001b[1;33m \u001b[0mplt\u001b[0m\u001b[1;33m.\u001b[0m\u001b[0mxlable\u001b[0m\u001b[1;33m(\u001b[0m\u001b[1;34m'x-axis'\u001b[0m\u001b[1;33m,\u001b[0m\u001b[0mfontsize\u001b[0m\u001b[1;33m=\u001b[0m\u001b[1;36m15\u001b[0m\u001b[1;33m)\u001b[0m\u001b[1;33m\u001b[0m\u001b[1;33m\u001b[0m\u001b[0m\n\u001b[0m\u001b[0;32m      6\u001b[0m \u001b[0mplt\u001b[0m\u001b[1;33m.\u001b[0m\u001b[0mylabel\u001b[0m\u001b[1;33m(\u001b[0m\u001b[1;34m'y-axis'\u001b[0m\u001b[1;33m,\u001b[0m\u001b[0mfontsize\u001b[0m\u001b[1;33m=\u001b[0m\u001b[1;36m15\u001b[0m\u001b[1;33m)\u001b[0m\u001b[1;33m\u001b[0m\u001b[1;33m\u001b[0m\u001b[0m\n",
      "\u001b[1;31mAttributeError\u001b[0m: module 'matplotlib.pyplot' has no attribute 'xlable'"
     ]
    },
    {
     "data": {
      "image/png": "[encoded data removed]",
      "text/plain": [
       "<Figure size 432x288 with 1 Axes>"
      ]
     },
     "metadata": {
      "needs_background": "light"
     },
     "output_type": "display_data"
    }
   ],
   "source": [
    "x = np.linspace(1,5,10)\n",
    "y = 2*x**3-9.5*x+7.5\n",
    "plt.plot(x,y)\n",
    "plt.grid()\n",
    "plt.xlable('x-axis',fontsize=15)\n",
    "plt.ylabel('y-axis',fontsize=15)"
   ]
  },
  {
   "cell_type": "code",
   "execution_count": 2,
   "id": "38042ae7",
   "metadata": {},
   "outputs": [],
   "source": [
    "#**BISECTION METHOD**"
   ]
  },
  {
   "cell_type": "code",
   "execution_count": 3,
   "id": "9ef20422",
   "metadata": {},
   "outputs": [
    {
     "name": "stdout",
     "output_type": "stream",
     "text": [
      "first guess: 5\n",
      "second guess: 1\n",
      "tolerance: 0.001\n",
      "iteration 1, x2 = 3.000000 and f(x2)= 33.000000\n",
      "iteration 2, x2 = 2.000000 and f(x2)= 4.500000\n",
      "iteration 3, x2 = 1.500000 and f(x2)= 0.000000\n",
      "root is :1.50000000 \n"
     ]
    }
   ],
   "source": [
    "from math import sin      # defining library\n",
    "def bisection(x0,x1,e):  #defining a function named as bisection. \n",
    "    step = 1             # starting the itteration to find root\n",
    "    condition = True  # using condition statement by taking it true as default.\n",
    "    while condition:  #taking while condition as true and it will be executed. \n",
    "        x2 = (x0+x1)/2   # using formula of bisection method then we get first root of first itteration.\n",
    "        print('iteration %d, x2 = %0.6f and f(x2)= %0.6f' %(step,x2,f(x2)))   #print no. of itteration, x2 and f(x2)\n",
    "        \n",
    "        if f(x0) * f(x2) < 0:  #criteria for applying bisection method\n",
    "            x1 = x2     #if satisfied then x2 will be replaced by x1.\n",
    "        else:\n",
    "            x0 = x2     #if not satisfied then x0 will be replaced by x2.\n",
    "        step = step +1   # increasing no. of itterations\n",
    "        condition = abs(f(x2)) > e  # defining condition whether the absolute error is greater than  the defined tolerance.\n",
    "    print('root is :%0.8f '%x2)  #printing the value of root.\n",
    "#    return x2     #if the above condition is true then return to x2.\n",
    "\n",
    "def f(x):                 # defining a funtion\n",
    "    return 2*x**3-9.5*x+7.5   #given function\n",
    "\n",
    "x0 = float(input('first guess: '))  #getting first value from the user\n",
    "x1 = float(input('second guess: ')) #getting second value from the user\n",
    "e  = float(input('tolerance: '))  # defining a acceptable tolerance by the user\n",
    "\n",
    "if f(x0) * f(x1) > 0.0:     #applying if condition and check for this\n",
    "    print('given guess values do not bracket the root') #if above statement is true then print the statement given in brackets.\n",
    "else:       # using else condition if above condition is false\n",
    "    root = bisection(x0,x1,e)  # using bisection method if the criteria for having root is satisfied."
   ]
  },
  {
   "cell_type": "code",
   "execution_count": 5,
   "id": "ebe150f4",
   "metadata": {},
   "outputs": [],
   "source": [
    "#3- Regula Falsi Method"
   ]
  },
  {
   "cell_type": "code",
   "execution_count": 29,
   "id": "3f0f501b",
   "metadata": {},
   "outputs": [
    {
     "name": "stdout",
     "output_type": "stream",
     "text": [
      "enter x1: -2\n",
      "enter x2: -3\n",
      "The root = -2.500000 at 12 false position\n"
     ]
    }
   ],
   "source": [
    "from math import sin     #defining a library\n",
    "def reg_falsi(f,x1,x2,tol=1.0e-6,maxfpos=100):   #definig a function named as regula falsi \n",
    "    \n",
    "    if f(x1) * f(x2)<0:    # criteria for having a root between two values and then applying regula falsi method.\n",
    "        for fpos in range(1,maxfpos+1):  #introducing loop for no. of itterations\n",
    "            xh = x2 - (x2-x1)/(f(x2)-f(x1)) * f(x2)  #formula for regula falsi method for finding new root.\n",
    "            if abs(f(xh)) < tol:   # defining condition whether the absolute error is less than the defined tolerance\n",
    "                break   #if yes then no more itterations would be permormed and process should be stopped.\n",
    "            elif f(x1) * f(xh) < 0:   #criteria for applying false position method and existance of root.\n",
    "                x2 = xh  #if above criteria satisfies then x2 would be repalaced with xh.\n",
    "            else:  #using else statement if above condition is not satisfied\n",
    "                x1 = xh   #then x1 would be replaced with xh.\n",
    "    else:   #using else satement, otherwise\n",
    "        print('No roots exists within the given interval')  #if both conditions are not satisfied then print the statement mentioned in the bracket.\n",
    "        \n",
    "    return xh, fpos   \n",
    "\n",
    "y = lambda x: 2*x**3-9.5*x+7.5  #converting the given function into python function  \n",
    "\n",
    "x1 = float(input('enter x1: '))   #taking first input from the user.\n",
    "x2 = float(input('enter x2: '))   #taking second input from the user.\n",
    "\n",
    "r, n = reg_falsi(y,x1,x2)   #calling to the main function\n",
    "print('The root = %f at %d false position'%(r,n))   #print the value of the root and no of itterations."
   ]
  },
  {
   "cell_type": "code",
   "execution_count": 28,
   "id": "1f03b19f",
   "metadata": {},
   "outputs": [],
   "source": [
    "# SECANT METHOD"
   ]
  },
  {
   "cell_type": "code",
   "execution_count": 26,
   "id": "491f3539",
   "metadata": {},
   "outputs": [
    {
     "name": "stdout",
     "output_type": "stream",
     "text": [
      "enter x1: 0\n",
      "enter x2: 2\n",
      "Root = 1.500000 at 9 iterations\n"
     ]
    }
   ],
   "source": [
    "from math import sin    #defining library\n",
    "def secant(fn,x1,x2,tol,maxiter):   #defining a function named as secant.\n",
    "    for i in range(maxiter):   #introducing loop for no. of itterations\n",
    "        xnew  = x2 - (x2-x1)/(fn(x2)-fn(x1))*fn(x2)   #formula of secant method for finding the new root.\n",
    "        if abs(xnew-x2) < tol:  # defining condition whether the absolute error is less than  the defined tolerance\n",
    "            break  # if yes then no more itterations would be permormed and process should be stopped.\n",
    "        else:     # using else condition, if not satisfied the tolerance.\n",
    "            x1 = x2  # then x1 would be replaced with x2\n",
    "            x2 = xnew   #and x2 would be the new root.\n",
    "    else:      # using else condition, otherwise\n",
    "        print('warning: Maximum number of iterations is reached')   #print the statement mentioned in the brackets.\n",
    "    return xnew, i   \n",
    "\n",
    "f = lambda x: 2*x**3-9.5*x+7.5     #converting the given function into python function    \n",
    "\n",
    "x1 = float(input('enter x1: '))   #taking first input from the user.\n",
    "x2 = float(input('enter x2: '))   #taking second input from the user.\n",
    "\n",
    "r, n = secant(f,x1,x2,1.0e-6,100)   # calling to the main function\n",
    "\n",
    "print('Root = %f at %d iterations'%(r,n))   #print the value of the root and no of itterations."
   ]
  },
  {
   "cell_type": "markdown",
   "id": "55eeed2c",
   "metadata": {},
   "source": [
    "**Question#3**\n",
    "\n",
    "Find the root of the following equation:\n",
    "\n",
    "$x^2-sin^2(x)-4x+1=0$\n",
    "\n",
    "take guess1 = 0 and guess2 = 1\n",
    "\n",
    "\n",
    "\n",
    "# 3- Regula Falsi Method"
   ]
  },
  {
   "cell_type": "code",
   "execution_count": 11,
   "id": "ca72b9b0",
   "metadata": {},
   "outputs": [
    {
     "name": "stdout",
     "output_type": "stream",
     "text": [
      "enter x1: 0\n",
      "enter x2: 1\n",
      "The root = 0.250324 at 4 false position\n"
     ]
    }
   ],
   "source": [
    "from math import sin     #defining a library\n",
    "def reg_falsi(f,x1,x2,tol=1.0e-6,maxfpos=100):   #definig a function named as regula falsi \n",
    "    \n",
    "    if f(x1) * f(x2)<0:    # criteria for having a root between two values and then applying regula falsi method.\n",
    "        for fpos in range(1,maxfpos+1):  #introducing loop for no. of itterations\n",
    "            xh = x2 - (x2-x1)/(f(x2)-f(x1)) * f(x2)  #formula for regula falsi method for finding new root.\n",
    "            if abs(f(xh)) < tol:   # defining condition whether the absolute error is less than the defined tolerance\n",
    "                break   #if yes then no more itterations would be permormed and process should be stopped.\n",
    "            elif f(x1) * f(xh) < 0:   #criteria for applying false position method and existance of root.\n",
    "                x2 = xh  #if above criteria satisfies then x2 would be repalaced with xh.\n",
    "            else:  #using else statement if above condition is not satisfied\n",
    "                x1 = xh   #then x1 would be replaced with xh.\n",
    "    else:   #using else satement, otherwise\n",
    "        print('No roots exists within the given interval')  #if both conditions are not satisfied then print the statement mentioned in the bracket.\n",
    "        \n",
    "    return xh, fpos   \n",
    "\n",
    "y = lambda x: x**2 - sin(x)**2 - 4*x + 1  #converting the given function into python function  \n",
    "\n",
    "x1 = float(input('enter x1: '))   #taking first input from the user.\n",
    "x2 = float(input('enter x2: '))   #taking second input from the user.\n",
    "\n",
    "r, n = reg_falsi(y,x1,x2)   #calling to the main function\n",
    "print('The root = %f at %d false position'%(r,n))   #print the value of the root and no of itterations."
   ]
  },
  {
   "cell_type": "code",
   "execution_count": 6,
   "id": "79189b9d",
   "metadata": {},
   "outputs": [
    {
     "ename": "TypeError",
     "evalue": "only size-1 arrays can be converted to Python scalars",
     "output_type": "error",
     "traceback": [
      "\u001b[1;31m---------------------------------------------------------------------------\u001b[0m",
      "\u001b[1;31mTypeError\u001b[0m                                 Traceback (most recent call last)",
      "\u001b[1;32mC:\\Users\\TRADEZ~1\\AppData\\Local\\Temp/ipykernel_11176/1989151182.py\u001b[0m in \u001b[0;36m<module>\u001b[1;34m\u001b[0m\n\u001b[0;32m      3\u001b[0m \u001b[0mx\u001b[0m\u001b[1;33m=\u001b[0m \u001b[0mnp\u001b[0m\u001b[1;33m.\u001b[0m\u001b[0mlinspace\u001b[0m\u001b[1;33m(\u001b[0m\u001b[1;36m0\u001b[0m\u001b[1;33m,\u001b[0m\u001b[1;36m1\u001b[0m\u001b[1;33m,\u001b[0m\u001b[1;36m20\u001b[0m\u001b[1;33m)\u001b[0m\u001b[1;33m\u001b[0m\u001b[1;33m\u001b[0m\u001b[0m\n\u001b[0;32m      4\u001b[0m \u001b[0mz\u001b[0m \u001b[1;33m=\u001b[0m \u001b[0mnp\u001b[0m\u001b[1;33m.\u001b[0m\u001b[0msin\u001b[0m\u001b[1;33m(\u001b[0m\u001b[0mx\u001b[0m\u001b[1;33m)\u001b[0m\u001b[1;33m\u001b[0m\u001b[1;33m\u001b[0m\u001b[0m\n\u001b[1;32m----> 5\u001b[1;33m \u001b[0my\u001b[0m \u001b[1;33m=\u001b[0m \u001b[0mx\u001b[0m\u001b[1;33m**\u001b[0m\u001b[1;36m2\u001b[0m \u001b[1;33m-\u001b[0m \u001b[0msin\u001b[0m\u001b[1;33m(\u001b[0m\u001b[0mx\u001b[0m\u001b[1;33m)\u001b[0m\u001b[1;33m**\u001b[0m\u001b[1;36m2\u001b[0m \u001b[1;33m-\u001b[0m \u001b[1;36m4\u001b[0m\u001b[1;33m*\u001b[0m\u001b[0mx\u001b[0m \u001b[1;33m+\u001b[0m \u001b[1;36m1\u001b[0m\u001b[1;33m\u001b[0m\u001b[1;33m\u001b[0m\u001b[0m\n\u001b[0m\u001b[0;32m      6\u001b[0m \u001b[0mplt\u001b[0m\u001b[1;33m.\u001b[0m\u001b[0mplot\u001b[0m\u001b[1;33m(\u001b[0m\u001b[0mx\u001b[0m\u001b[1;33m,\u001b[0m\u001b[0my\u001b[0m\u001b[1;33m)\u001b[0m\u001b[1;33m\u001b[0m\u001b[1;33m\u001b[0m\u001b[0m\n\u001b[0;32m      7\u001b[0m \u001b[0mplt\u001b[0m\u001b[1;33m.\u001b[0m\u001b[0mgrid\u001b[0m\u001b[1;33m(\u001b[0m\u001b[1;33m)\u001b[0m\u001b[1;33m\u001b[0m\u001b[1;33m\u001b[0m\u001b[0m\n",
      "\u001b[1;31mTypeError\u001b[0m: only size-1 arrays can be converted to Python scalars"
     ]
    }
   ],
   "source": [
    "from math import sin\n",
    "import numpy as np \n",
    "x= np.linspace(0,1,20)\n",
    "z = np.sin(x)\n",
    "y = x**2 - sin(x)**2 - 4*x + 1\n",
    "plt.plot(x,y)\n",
    "plt.grid()\n",
    "plt.xlable('x-axis',fontsize=15)\n",
    "plt.ylabel('y-axis',fontsize=15)\n"
   ]
  },
  {
   "cell_type": "code",
   "execution_count": 10,
   "id": "e88453fd",
   "metadata": {},
   "outputs": [],
   "source": [
    "#BISECTION METHOD"
   ]
  },
  {
   "cell_type": "code",
   "execution_count": 33,
   "id": "d259dce0",
   "metadata": {},
   "outputs": [
    {
     "name": "stdout",
     "output_type": "stream",
     "text": [
      "first guess: 0\n",
      "second guess: 1\n",
      "tolerance: 0.00001\n",
      "iteration 1, x2 = 0.500000 and f(x2)= -0.979849\n",
      "iteration 2, x2 = 0.250000 and f(x2)= 0.001291\n",
      "iteration 3, x2 = 0.375000 and f(x2)= -0.493531\n",
      "iteration 4, x2 = 0.312500 and f(x2)= -0.246862\n",
      "iteration 5, x2 = 0.281250 and f(x2)= -0.122936\n",
      "iteration 6, x2 = 0.265625 and f(x2)= -0.060856\n",
      "iteration 7, x2 = 0.257812 and f(x2)= -0.029790\n",
      "iteration 8, x2 = 0.253906 and f(x2)= -0.014251\n",
      "iteration 9, x2 = 0.251953 and f(x2)= -0.006481\n",
      "iteration 10, x2 = 0.250977 and f(x2)= -0.002595\n",
      "iteration 11, x2 = 0.250488 and f(x2)= -0.000652\n",
      "iteration 12, x2 = 0.250244 and f(x2)= 0.000320\n",
      "iteration 13, x2 = 0.250366 and f(x2)= -0.000166\n",
      "iteration 14, x2 = 0.250305 and f(x2)= 0.000077\n",
      "iteration 15, x2 = 0.250336 and f(x2)= -0.000045\n",
      "iteration 16, x2 = 0.250320 and f(x2)= 0.000016\n",
      "iteration 17, x2 = 0.250328 and f(x2)= -0.000014\n",
      "iteration 18, x2 = 0.250324 and f(x2)= 0.000001\n",
      "root is :0.25032425 \n"
     ]
    }
   ],
   "source": [
    "from math import sin      # defining library\n",
    "def bisection(x0,x1,e):  #defining a function named as bisection. \n",
    "    step = 1             # starting the itteration to find root\n",
    "    condition = True  # using condition statement by taking it true as default.\n",
    "    while condition:  #taking while condition as true and it will be executed. \n",
    "        x2 = (x0+x1)/2   # using formula of bisection method then we get first root of first itteration.\n",
    "        print('iteration %d, x2 = %0.6f and f(x2)= %0.6f' %(step,x2,f(x2)))   #print no. of itteration, x2 and f(x2)\n",
    "        \n",
    "        if f(x0) * f(x2) < 0:  #criteria for applying bisection method\n",
    "            x1 = x2     #if satisfied then x2 will be replaced by x1.\n",
    "        else:\n",
    "            x0 = x2     #if not satisfied then x0 will be replaced by x2.\n",
    "        step = step +1   # increasing no. of itterations\n",
    "        condition = abs(f(x2)) > e  # defining condition whether the absolute error is greater than  the defined tolerance.\n",
    "    print('root is :%0.8f '%x2)  #printing the value of root.\n",
    "#    return x2     #if the above condition is true then return to x2.\n",
    "\n",
    "def f(x):                 # defining a funtion\n",
    "    return x**2 - sin(x)**2 - 4*x + 1   #given function\n",
    "\n",
    "x0 = float(input('first guess: '))  #getting first value from the user\n",
    "x1 = float(input('second guess: ')) #getting second value from the user\n",
    "e  = float(input('tolerance: '))  # defining a acceptable tolerance by the user\n",
    "\n",
    "if f(x0) * f(x1) > 0.0:     #applying if condition and check for this\n",
    "    print('given guess values do not bracket the root') #if above statement is true then print the statement given in brackets.\n",
    "else:       # using else condition if above condition is false\n",
    "    root = bisection(x0,x1,e)  # using bisection method if the criteria for having root is satisfied."
   ]
  },
  {
   "cell_type": "code",
   "execution_count": 34,
   "id": "21a1a38c",
   "metadata": {},
   "outputs": [],
   "source": [
    "# NEWTON RAPHSON METHOD"
   ]
  },
  {
   "cell_type": "code",
   "execution_count": 36,
   "id": "e13ac189",
   "metadata": {},
   "outputs": [
    {
     "name": "stdout",
     "output_type": "stream",
     "text": [
      "the root is 0.250 at 9 iterations.\n"
     ]
    }
   ],
   "source": [
    "from math import sin,cos     #defining a library\n",
    "def newton(fn,dfn,x,tol,maxiter):   #defining the function named as newton.\n",
    "    for i in range(maxiter):    #introducing loop for no. of itterations\n",
    "        xnew = x - fn(x)/dfn(x)  #formula of newton raphson method for finding new root.\n",
    "        if abs(xnew-x)<tol:   #defining condition whether the absolute error is less than the defined tolerance                      \n",
    "            break   # if yes then no more itterations would be permormed and process should be stopped.\n",
    "        x = xnew   #if no, then x will be replaced with xnew.\n",
    "    return xnew, i   \n",
    "\n",
    "y = lambda x: x**2 - sin(x)**2 - 4*x + 1    #converting the given function into python function  \n",
    "dy = lambda x : 2*x -2*x*cos(x)**2 - 4  #converting the derivative of the given function into python.\n",
    "\n",
    "x, n = newton(y, dy, 5, 0.0001, 100)   #calling to the main function \n",
    "print('the root is %.3f at %d iterations.'%(x,n))   #print the value of required root and no. of itterations."
   ]
  },
  {
   "cell_type": "code",
   "execution_count": 37,
   "id": "6a37ed24",
   "metadata": {},
   "outputs": [],
   "source": [
    "#SECANT METHOD"
   ]
  },
  {
   "cell_type": "code",
   "execution_count": 38,
   "id": "31070a47",
   "metadata": {},
   "outputs": [
    {
     "name": "stdout",
     "output_type": "stream",
     "text": [
      "enter x1: 0\n",
      "enter x2: 1\n",
      "Root = 0.250324 at 4 iterations\n"
     ]
    }
   ],
   "source": [
    "from math import sin    #defining library\n",
    "def secant(fn,x1,x2,tol,maxiter):   #defining a function named as secant.\n",
    "    for i in range(maxiter):   #introducing loop for no. of itterations\n",
    "        xnew  = x2 - (x2-x1)/(fn(x2)-fn(x1))*fn(x2)   #formula of secant method for finding the new root.\n",
    "        if abs(xnew-x2) < tol:  # defining condition whether the absolute error is less than  the defined tolerance\n",
    "            break  # if yes then no more itterations would be permormed and process should be stopped.\n",
    "        else:     # using else condition, if not satisfied the tolerance.\n",
    "            x1 = x2  # then x1 would be replaced with x2\n",
    "            x2 = xnew   #and x2 would be the new root.\n",
    "    else:      # using else condition, otherwise\n",
    "        print('warning: Maximum number of iterations is reached')   #print the statement mentioned in the brackets.\n",
    "    return xnew, i   \n",
    "\n",
    "f = lambda x: x**2 - sin(x)**2 - 4*x + 1    #converting the given function into python function    \n",
    "\n",
    "x1 = float(input('enter x1: '))   #taking first input from the user.\n",
    "x2 = float(input('enter x2: '))   #taking second input from the user.\n",
    "\n",
    "r, n = secant(f,x1,x2,1.0e-6,100)   # calling to the main function\n",
    "\n",
    "print('Root = %f at %d iterations'%(r,n))   #print the value of the root and no of itterations."
   ]
  },
  {
   "cell_type": "markdown",
   "id": "170cac1e",
   "metadata": {},
   "source": [
    "**Question#4**\n",
    "    \n",
    "Find the roots of the following equation\n",
    "\n",
    "$2x^2 - 5x + 3 = 0$ \n",
    "\n",
    "take guess1 = -2 and guess2 = 2\n",
    "\n",
    "\n",
    "\n",
    "# 4- Secant Method"
   ]
  },
  {
   "cell_type": "code",
   "execution_count": 12,
   "id": "05c3d4fa",
   "metadata": {},
   "outputs": [
    {
     "name": "stdout",
     "output_type": "stream",
     "text": [
      "enter x1: -2\n",
      "enter x2: 2\n",
      "Root = 1.500000 at 8 iterations\n"
     ]
    }
   ],
   "source": [
    "from math import sin    #defining library\n",
    "def secant(fn,x1,x2,tol,maxiter):   #defining a function named as secant.\n",
    "    for i in range(maxiter):   #introducing loop for no. of itterations\n",
    "        xnew  = x2 - (x2-x1)/(fn(x2)-fn(x1))*fn(x2)   #formula of secant method for finding the new root.\n",
    "        if abs(xnew-x2) < tol:  # defining condition whether the absolute error is less than  the defined tolerance\n",
    "            break  # if yes then no more itterations would be permormed and process should be stopped.\n",
    "        else:     # using else condition, if not satisfied the tolerance.\n",
    "            x1 = x2  # then x1 would be replaced with x2\n",
    "            x2 = xnew   #and x2 would be the new root.\n",
    "    else:      # using else condition, otherwise\n",
    "        print('warning: Maximum number of iterations is reached')   #print the statement mentioned in the brackets.\n",
    "    return xnew, i   \n",
    "\n",
    "f = lambda x: 2*x**2 - 5*x + 3   #converting the given function into python function    \n",
    "\n",
    "x1 = float(input('enter x1: '))   #taking first input from the user.\n",
    "x2 = float(input('enter x2: '))   #taking second input from the user.\n",
    "\n",
    "r, n = secant(f,x1,x2,1.0e-6,100)   # calling to the main function\n",
    "\n",
    "print('Root = %f at %d iterations'%(r,n))   #print the value of the root and no of itterations."
   ]
  },
  {
   "cell_type": "code",
   "execution_count": 11,
   "id": "3a8f881d",
   "metadata": {},
   "outputs": [
    {
     "ename": "AttributeError",
     "evalue": "module 'matplotlib.pyplot' has no attribute 'xlable'",
     "output_type": "error",
     "traceback": [
      "\u001b[1;31m---------------------------------------------------------------------------\u001b[0m",
      "\u001b[1;31mAttributeError\u001b[0m                            Traceback (most recent call last)",
      "\u001b[1;32mC:\\Users\\TRADEZ~1\\AppData\\Local\\Temp/ipykernel_11176/70080979.py\u001b[0m in \u001b[0;36m<module>\u001b[1;34m\u001b[0m\n\u001b[0;32m      4\u001b[0m \u001b[0mplt\u001b[0m\u001b[1;33m.\u001b[0m\u001b[0mplot\u001b[0m\u001b[1;33m(\u001b[0m\u001b[0mx\u001b[0m\u001b[1;33m,\u001b[0m\u001b[0my\u001b[0m\u001b[1;33m)\u001b[0m\u001b[1;33m\u001b[0m\u001b[1;33m\u001b[0m\u001b[0m\n\u001b[0;32m      5\u001b[0m \u001b[0mplt\u001b[0m\u001b[1;33m.\u001b[0m\u001b[0mgrid\u001b[0m\u001b[1;33m(\u001b[0m\u001b[1;33m)\u001b[0m\u001b[1;33m\u001b[0m\u001b[1;33m\u001b[0m\u001b[0m\n\u001b[1;32m----> 6\u001b[1;33m \u001b[0mplt\u001b[0m\u001b[1;33m.\u001b[0m\u001b[0mxlable\u001b[0m\u001b[1;33m(\u001b[0m\u001b[1;34m'x-axis'\u001b[0m\u001b[1;33m,\u001b[0m\u001b[0mfontsize\u001b[0m\u001b[1;33m=\u001b[0m\u001b[1;36m15\u001b[0m\u001b[1;33m)\u001b[0m\u001b[1;33m\u001b[0m\u001b[1;33m\u001b[0m\u001b[0m\n\u001b[0m\u001b[0;32m      7\u001b[0m \u001b[0mplt\u001b[0m\u001b[1;33m.\u001b[0m\u001b[0mylabel\u001b[0m\u001b[1;33m(\u001b[0m\u001b[1;34m'y-axis'\u001b[0m\u001b[1;33m,\u001b[0m\u001b[0mfontsize\u001b[0m\u001b[1;33m=\u001b[0m\u001b[1;36m15\u001b[0m\u001b[1;33m)\u001b[0m\u001b[1;33m\u001b[0m\u001b[1;33m\u001b[0m\u001b[0m\n",
      "\u001b[1;31mAttributeError\u001b[0m: module 'matplotlib.pyplot' has no attribute 'xlable'"
     ]
    },
    {
     "data": {
      "image/png": "[encoded data removed]",
      "text/plain": [
       "<Figure size 432x288 with 1 Axes>"
      ]
     },
     "metadata": {
      "needs_background": "light"
     },
     "output_type": "display_data"
    }
   ],
   "source": [
    "import matplotlib.pyplot as plt\n",
    "x = np.linspace(-2,2,10)\n",
    "y = 2*x**2 - 5*x + 3\n",
    "plt.plot(x,y)\n",
    "plt.grid()\n",
    "plt.xlable('x-axis',fontsize=15)\n",
    "plt.ylabel('y-axis',fontsize=15)"
   ]
  },
  {
   "cell_type": "code",
   "execution_count": 39,
   "id": "da647003",
   "metadata": {},
   "outputs": [],
   "source": [
    "# BISECTION METHOD"
   ]
  },
  {
   "cell_type": "code",
   "execution_count": 49,
   "id": "6ed521f8",
   "metadata": {},
   "outputs": [
    {
     "name": "stdout",
     "output_type": "stream",
     "text": [
      "first guess: -2\n",
      "second guess: 2\n",
      "tolerance: 0.00001\n",
      "given guess values do not bracket the root\n"
     ]
    }
   ],
   "source": [
    "from math import sin      # defining library\n",
    "def bisection(x0,x1,e):  #defining a function named as bisection. \n",
    "    step = 1             # starting the itteration to find root\n",
    "    condition = True  # using condition statement by taking it true as default.\n",
    "    while condition:  #taking while condition as true and it will be executed. \n",
    "        x2 = (x0+x1)/2   # using formula of bisection method then we get first root of first itteration.\n",
    "        print('iteration %d, x2 = %0.6f and f(x2)= %0.6f' %(step,x2,f(x2)))   #print no. of itteration, x2 and f(x2)\n",
    "        \n",
    "        if f(x0) * f(x2) < 0:  #criteria for applying bisection method\n",
    "            x1 = x2     #if satisfied then x2 will be replaced by x1.\n",
    "        else:\n",
    "            x0 = x2     #if not satisfied then x0 will be replaced by x2.\n",
    "        step = step +1   # increasing no. of itterations\n",
    "        condition = abs(f(x2)) > e  # defining condition whether the absolute error is greater than  the defined tolerance.\n",
    "    print('root is :%0.8f '%x2)  #printing the value of root.\n",
    "#    return x2     #if the above condition is true then return to x2.\n",
    "\n",
    "def f(x):                 # defining a funtion\n",
    "    return 2*x**2 - 5*x + 3    #given function\n",
    "\n",
    "x0 = float(input('first guess: '))  #getting first value from the user\n",
    "x1 = float(input('second guess: ')) #getting second value from the user\n",
    "e  = float(input('tolerance: '))  # defining a acceptable tolerance by the user\n",
    "\n",
    "if f(x0) * f(x1) > 0.0:     #applying if condition and check for this\n",
    "    print('given guess values do not bracket the root') #if above statement is true then print the statement given in brackets.\n",
    "else:       # using else condition if above condition is false\n",
    "    root = bisection(x0,x1,e)  # using bisection method if the criteria for having root is satisfied."
   ]
  },
  {
   "cell_type": "code",
   "execution_count": 50,
   "id": "48004116",
   "metadata": {},
   "outputs": [],
   "source": [
    "#NEWTON RAPHSON METHOD"
   ]
  },
  {
   "cell_type": "code",
   "execution_count": 51,
   "id": "ef9dbe0e",
   "metadata": {},
   "outputs": [
    {
     "name": "stdout",
     "output_type": "stream",
     "text": [
      "the root is 1.500 at 6 iterations.\n"
     ]
    }
   ],
   "source": [
    "from math import sin,cos     #defining a library\n",
    "def newton(fn,dfn,x,tol,maxiter):   #defining the function named as newton.\n",
    "    for i in range(maxiter):    #introducing loop for no. of itterations\n",
    "        xnew = x - fn(x)/dfn(x)  #formula of newton raphson method for finding new root.\n",
    "        if abs(xnew-x)<tol:   #defining condition whether the absolute error is less than the defined tolerance                      \n",
    "            break   # if yes then no more itterations would be permormed and process should be stopped.\n",
    "        x = xnew   #if no, then x will be replaced with xnew.\n",
    "    return xnew, i   \n",
    "\n",
    "y = lambda x: 2*x**2 - 5*x + 3    #converting the given function into python function  \n",
    "dy = lambda x : 4*x -5    #converting the derivative of the given function into python.\n",
    "\n",
    "x, n = newton(y, dy, 5, 0.0001, 100)   #calling to the main function \n",
    "print('the root is %.3f at %d iterations.'%(x,n))   #print the value of required root and no. of itterations."
   ]
  },
  {
   "cell_type": "code",
   "execution_count": 52,
   "id": "694d9a56",
   "metadata": {},
   "outputs": [],
   "source": [
    "#REGULA- FALSI METHOD"
   ]
  },
  {
   "cell_type": "code",
   "execution_count": 2,
   "id": "8614f176",
   "metadata": {},
   "outputs": [
    {
     "name": "stdout",
     "output_type": "stream",
     "text": [
      "enter x1: -2\n",
      "enter x2: 2\n",
      "No roots exists within the given interval\n"
     ]
    },
    {
     "ename": "UnboundLocalError",
     "evalue": "local variable 'xh' referenced before assignment",
     "output_type": "error",
     "traceback": [
      "\u001b[1;31m---------------------------------------------------------------------------\u001b[0m",
      "\u001b[1;31mUnboundLocalError\u001b[0m                         Traceback (most recent call last)",
      "\u001b[1;32mC:\\Users\\TRADEZ~1\\AppData\\Local\\Temp/ipykernel_5396/3860192618.py\u001b[0m in \u001b[0;36m<module>\u001b[1;34m\u001b[0m\n\u001b[0;32m     21\u001b[0m \u001b[0mx2\u001b[0m \u001b[1;33m=\u001b[0m \u001b[0mfloat\u001b[0m\u001b[1;33m(\u001b[0m\u001b[0minput\u001b[0m\u001b[1;33m(\u001b[0m\u001b[1;34m'enter x2: '\u001b[0m\u001b[1;33m)\u001b[0m\u001b[1;33m)\u001b[0m   \u001b[1;31m#taking second input from the user.\u001b[0m\u001b[1;33m\u001b[0m\u001b[1;33m\u001b[0m\u001b[0m\n\u001b[0;32m     22\u001b[0m \u001b[1;33m\u001b[0m\u001b[0m\n\u001b[1;32m---> 23\u001b[1;33m \u001b[0mr\u001b[0m\u001b[1;33m,\u001b[0m \u001b[0mn\u001b[0m \u001b[1;33m=\u001b[0m \u001b[0mreg_falsi\u001b[0m\u001b[1;33m(\u001b[0m\u001b[0my\u001b[0m\u001b[1;33m,\u001b[0m\u001b[0mx1\u001b[0m\u001b[1;33m,\u001b[0m\u001b[0mx2\u001b[0m\u001b[1;33m)\u001b[0m   \u001b[1;31m#calling to the main function\u001b[0m\u001b[1;33m\u001b[0m\u001b[1;33m\u001b[0m\u001b[0m\n\u001b[0m\u001b[0;32m     24\u001b[0m \u001b[0mprint\u001b[0m\u001b[1;33m(\u001b[0m\u001b[1;34m'The root = %f at %d false position'\u001b[0m\u001b[1;33m%\u001b[0m\u001b[1;33m(\u001b[0m\u001b[0mr\u001b[0m\u001b[1;33m,\u001b[0m\u001b[0mn\u001b[0m\u001b[1;33m)\u001b[0m\u001b[1;33m)\u001b[0m   \u001b[1;31m#print the value of the root and no of itterations.\u001b[0m\u001b[1;33m\u001b[0m\u001b[1;33m\u001b[0m\u001b[0m\n",
      "\u001b[1;32mC:\\Users\\TRADEZ~1\\AppData\\Local\\Temp/ipykernel_5396/3860192618.py\u001b[0m in \u001b[0;36mreg_falsi\u001b[1;34m(f, x1, x2, tol, maxfpos)\u001b[0m\n\u001b[0;32m     14\u001b[0m         \u001b[0mprint\u001b[0m\u001b[1;33m(\u001b[0m\u001b[1;34m'No roots exists within the given interval'\u001b[0m\u001b[1;33m)\u001b[0m  \u001b[1;31m#if both conditions are not satisfied then print the statement mentioned in the bracket.\u001b[0m\u001b[1;33m\u001b[0m\u001b[1;33m\u001b[0m\u001b[0m\n\u001b[0;32m     15\u001b[0m \u001b[1;33m\u001b[0m\u001b[0m\n\u001b[1;32m---> 16\u001b[1;33m     \u001b[1;32mreturn\u001b[0m \u001b[0mxh\u001b[0m\u001b[1;33m,\u001b[0m \u001b[0mfpos\u001b[0m\u001b[1;33m\u001b[0m\u001b[1;33m\u001b[0m\u001b[0m\n\u001b[0m\u001b[0;32m     17\u001b[0m \u001b[1;33m\u001b[0m\u001b[0m\n\u001b[0;32m     18\u001b[0m \u001b[0my\u001b[0m \u001b[1;33m=\u001b[0m \u001b[1;32mlambda\u001b[0m \u001b[0mx\u001b[0m\u001b[1;33m:\u001b[0m \u001b[1;36m2\u001b[0m\u001b[1;33m*\u001b[0m\u001b[0mx\u001b[0m\u001b[1;33m**\u001b[0m\u001b[1;36m2\u001b[0m \u001b[1;33m-\u001b[0m \u001b[1;36m5\u001b[0m\u001b[1;33m*\u001b[0m\u001b[0mx\u001b[0m \u001b[1;33m+\u001b[0m \u001b[1;36m3\u001b[0m  \u001b[1;31m#converting the given function into python function\u001b[0m\u001b[1;33m\u001b[0m\u001b[1;33m\u001b[0m\u001b[0m\n",
      "\u001b[1;31mUnboundLocalError\u001b[0m: local variable 'xh' referenced before assignment"
     ]
    }
   ],
   "source": [
    "from math import sin     #defining a library\n",
    "def reg_falsi(f,x1,x2,tol=1.0e-6,maxfpos=100):   #definig a function named as regula falsi \n",
    "    \n",
    "    if f(x1) * f(x2)<0:    # criteria for having a root between two values and then applying regula falsi method.\n",
    "        for fpos in range(1,maxfpos+1):  #introducing loop for no. of itterations\n",
    "            xh = x2 - (x2-x1)/(f(x2)-f(x1)) * f(x2)  #formula for regula falsi method for finding new root.\n",
    "            if abs(f(xh)) < tol:   # defining condition whether the absolute error is less than the defined tolerance\n",
    "                break   #if yes then no more itterations would be permormed and process should be stopped.\n",
    "            elif f(x1) * f(xh) < 0:   #criteria for applying false position method and existance of root.\n",
    "                x2 = xh  #if above criteria satisfies then x2 would be repalaced with xh.\n",
    "            else:  #using else statement if above condition is not satisfied\n",
    "                x1 = xh   #then x1 would be replaced with xh.\n",
    "    else:   #using else satement, otherwise\n",
    "        print('No roots exists within the given interval')  #if both conditions are not satisfied then print the statement mentioned in the bracket.\n",
    "        \n",
    "    return xh, fpos   \n",
    "\n",
    "y = lambda x: 2*x**2 - 5*x + 3  #converting the given function into python function  \n",
    "\n",
    "x1 = float(input('enter x1: '))   #taking first input from the user.\n",
    "x2 = float(input('enter x2: '))   #taking second input from the user.\n",
    "\n",
    "r, n = reg_falsi(y,x1,x2)   #calling to the main function\n",
    "print('The root = %f at %d false position'%(r,n))   #print the value of the root and no of itterations."
   ]
  }
 ],
 "metadata": {
  "kernelspec": {
   "display_name": "Python 3 (ipykernel)",
   "language": "python",
   "name": "python3"
  },
  "language_info": {
   "codemirror_mode": {
    "name": "ipython",
    "version": 3
   },
   "file_extension": ".py",
   "mimetype": "text/x-python",
   "name": "python",
   "nbconvert_exporter": "python",
   "pygments_lexer": "ipython3",
   "version": "3.9.7"
  }
 },
 "nbformat": 4,
 "nbformat_minor": 5
}
